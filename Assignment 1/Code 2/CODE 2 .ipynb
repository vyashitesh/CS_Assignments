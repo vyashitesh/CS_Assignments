{
 "cells": [
  {
   "cell_type": "code",
   "execution_count": null,
   "metadata": {},
   "outputs": [],
   "source": [
    "'''\n",
    "Q2 Write a programm to create a user defined tuple with int data type and performthe following operations.\n",
    " Find the length of tuples.\n",
    " Find the sum of all the elements of a tuple.\n",
    " Find the largest amd smallest elements of a tuple.\n",
    "'''\n"
   ]
  },
  {
   "cell_type": "code",
   "execution_count": 11,
   "metadata": {},
   "outputs": [
    {
     "name": "stdout",
     "output_type": "stream",
     "text": [
      "14\n",
      "66\n",
      "1\n",
      "9\n"
     ]
    }
   ],
   "source": [
    "t = (1,2,3,4,5,3,5,6,7,6,8,9,3,4)\n",
    "print(len(t))\n",
    "print(sum(t))\n",
    "print(min(t))\n",
    "print(max(t))"
   ]
  },
  {
   "cell_type": "code",
   "execution_count": null,
   "metadata": {},
   "outputs": [],
   "source": []
  }
 ],
 "metadata": {
  "kernelspec": {
   "display_name": "Python 3",
   "language": "python",
   "name": "python3"
  },
  "language_info": {
   "codemirror_mode": {
    "name": "ipython",
    "version": 3
   },
   "file_extension": ".py",
   "mimetype": "text/x-python",
   "name": "python",
   "nbconvert_exporter": "python",
   "pygments_lexer": "ipython3",
   "version": "3.7.6"
  }
 },
 "nbformat": 4,
 "nbformat_minor": 4
}

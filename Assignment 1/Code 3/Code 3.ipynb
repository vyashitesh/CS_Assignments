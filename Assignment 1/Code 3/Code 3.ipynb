{
 "cells": [
  {
   "cell_type": "code",
   "execution_count": null,
   "metadata": {},
   "outputs": [],
   "source": [
    "'''\n",
    "Q3 Given a number and ith bit,change the ith bit of that number of that number to 1.\n",
    "sample input = num = 13,i=1\n",
    "output = 15 \n",
    "explation -> 13 can be represented as 1101 in binary.Now if we set the 1st bit of this binary represented value we get 1111(15)as output.\n",
    "'''"
   ]
  },
  {
   "cell_type": "code",
   "execution_count": 2,
   "metadata": {},
   "outputs": [
    {
     "name": "stdout",
     "output_type": "stream",
     "text": [
      "Ath bit set number =  15\n"
     ]
    }
   ],
   "source": [
    "def setAthBit(n,k):\n",
    "    return((1<<k) | n)\n",
    "n = 13\n",
    "k = 1\n",
    "print(\"Ath bit set number = \" , setAthBit(n,k))"
   ]
  },
  {
   "cell_type": "code",
   "execution_count": null,
   "metadata": {},
   "outputs": [],
   "source": []
  }
 ],
 "metadata": {
  "kernelspec": {
   "display_name": "Python 3",
   "language": "python",
   "name": "python3"
  },
  "language_info": {
   "codemirror_mode": {
    "name": "ipython",
    "version": 3
   },
   "file_extension": ".py",
   "mimetype": "text/x-python",
   "name": "python",
   "nbconvert_exporter": "python",
   "pygments_lexer": "ipython3",
   "version": "3.7.6"
  }
 },
 "nbformat": 4,
 "nbformat_minor": 4
}

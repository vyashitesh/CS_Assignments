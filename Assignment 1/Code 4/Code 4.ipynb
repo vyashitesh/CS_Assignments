{
 "cells": [
  {
   "cell_type": "code",
   "execution_count": null,
   "metadata": {},
   "outputs": [],
   "source": [
    "'''\n",
    "Q4 Given a number , print 1 if the number is odd otherwise print 0.\n",
    "Note = Try note to use if and else.\n",
    "\n",
    "'''"
   ]
  },
  {
   "cell_type": "code",
   "execution_count": 4,
   "metadata": {},
   "outputs": [
    {
     "name": "stdout",
     "output_type": "stream",
     "text": [
      "Enter the number\n",
      "87\n",
      "1\n"
     ]
    }
   ],
   "source": [
    "arr = [\"0\" , \"1\"]\n",
    "# 0 = even, 1 = odd\n",
    "print(\"Enter the number\")\n",
    "no = input()\n",
    "print(arr[int(no) %2])"
   ]
  }
 ],
 "metadata": {
  "kernelspec": {
   "display_name": "Python 3",
   "language": "python",
   "name": "python3"
  },
  "language_info": {
   "codemirror_mode": {
    "name": "ipython",
    "version": 3
   },
   "file_extension": ".py",
   "mimetype": "text/x-python",
   "name": "python",
   "nbconvert_exporter": "python",
   "pygments_lexer": "ipython3",
   "version": "3.7.6"
  }
 },
 "nbformat": 4,
 "nbformat_minor": 4
}

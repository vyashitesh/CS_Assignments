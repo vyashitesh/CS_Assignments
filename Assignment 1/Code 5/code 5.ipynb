{
 "cells": [
  {
   "cell_type": "code",
   "execution_count": null,
   "metadata": {
    "collapsed": true
   },
   "outputs": [],
   "source": [
    "'''\n",
    "Q5 Given two lists of integers A & B. \n",
    "Write a program to merge them into a single sorted list that contains every iteam from list A and B in ascending order.\n",
    "'''"
   ]
  },
  {
   "cell_type": "code",
   "execution_count": 2,
   "metadata": {},
   "outputs": [
    {
     "name": "stdout",
     "output_type": "stream",
     "text": [
      "[0, 1, 2, 4, 4, 5, 5, 6, 6, 6, 7, 8, 8, 9]\n"
     ]
    }
   ],
   "source": [
    "A = [2,4,5,6,7,8,9]\n",
    "B = [1,4,6,8,0,5,6] \n",
    "C = A+B\n",
    "C.sort()\n",
    "print(C)"
   ]
  }
 ],
 "metadata": {
  "kernelspec": {
   "display_name": "Python 3",
   "language": "python",
   "name": "python3"
  },
  "language_info": {
   "codemirror_mode": {
    "name": "ipython",
    "version": 3
   },
   "file_extension": ".py",
   "mimetype": "text/x-python",
   "name": "python",
   "nbconvert_exporter": "python",
   "pygments_lexer": "ipython3",
   "version": "3.7.6"
  }
 },
 "nbformat": 4,
 "nbformat_minor": 4
}

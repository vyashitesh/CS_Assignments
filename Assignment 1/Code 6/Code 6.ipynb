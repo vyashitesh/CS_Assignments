{
 "cells": [
  {
   "cell_type": "code",
   "execution_count": null,
   "metadata": {},
   "outputs": [],
   "source": [
    "'''\n",
    "Q6 create a user defined dictionary to store names and marks of 5 students.\n",
    "sort the dictionary acc to marks and return this sorted to the user.\n",
    "Sample Input->{'Berlin':70, 'Oslo':0,'Moscow':50,'Nairobi':100}\n",
    "Output->{'Oslo':0,'Moscow':50,'Berlin':70,'Nairobi':100}\n",
    "'''"
   ]
  },
  {
   "cell_type": "code",
   "execution_count": 3,
   "metadata": {},
   "outputs": [
    {
     "name": "stdout",
     "output_type": "stream",
     "text": [
      "0 : Oslo\n",
      "50 : Moscow\n",
      "70 : Berlin\n",
      "100 : Nairobi\n"
     ]
    }
   ],
   "source": [
    "marks = {70:\"Berlin\", 0:\"Oslo\",50:\"Moscow\",100:\"Nairobi\"}\n",
    "for s in sorted(marks):\n",
    "    print(s,\":\",marks[s])\n"
   ]
  },
  {
   "cell_type": "code",
   "execution_count": null,
   "metadata": {},
   "outputs": [],
   "source": []
  }
 ],
 "metadata": {
  "kernelspec": {
   "display_name": "Python 3",
   "language": "python",
   "name": "python3"
  },
  "language_info": {
   "codemirror_mode": {
    "name": "ipython",
    "version": 3
   },
   "file_extension": ".py",
   "mimetype": "text/x-python",
   "name": "python",
   "nbconvert_exporter": "python",
   "pygments_lexer": "ipython3",
   "version": "3.7.6"
  }
 },
 "nbformat": 4,
 "nbformat_minor": 4
}
